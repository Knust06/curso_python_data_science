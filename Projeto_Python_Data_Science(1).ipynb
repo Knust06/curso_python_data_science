{
  "nbformat": 4,
  "nbformat_minor": 0,
  "metadata": {
    "colab": {
      "provenance": []
    },
    "kernelspec": {
      "name": "python3",
      "display_name": "Python 3"
    },
    "language_info": {
      "name": "python"
    }
  },
  "cells": [
    {
      "cell_type": "markdown",
      "source": [
        "# Python para Data Science\n",
        "\n",
        "Notebook para o curso de Python para Data Science publicado na plataforma da [Alura](https://www.alura.com.br/)"
      ],
      "metadata": {
        "id": "lQx6Mmv0OJyT"
      }
    },
    {
      "cell_type": "markdown",
      "source": [
        "# Introdução ao Python\n",
        "\n",
        "Vamos conhecer o Python, nosso ambiente de estudo e também faremos nosso primeiro código nessa linguagem!"
      ],
      "metadata": {
        "id": "7SiB6JIpYKmY"
      }
    },
    {
      "cell_type": "markdown",
      "source": [
        "## Google Colaboratory\n",
        "\n",
        "Já aprendemos o que é o [Python](https://www.python.org/) agora vamos aprender a utilzar o [Google Colaboratory](https://colab.research.google.com/) e programar em um notebook.\n",
        "\n",
        "Vamos testar algumas funções dessa ferramenta."
      ],
      "metadata": {
        "id": "Yugfb3fCOYY9"
      }
    },
    {
      "cell_type": "markdown",
      "source": [
        " **`>>> Use essa célula para mover <<<`**"
      ],
      "metadata": {
        "id": "2iUHQsJasJAk"
      }
    },
    {
      "cell_type": "code",
      "source": [
        "10"
      ],
      "metadata": {
        "id": "tWQp3j7S6MTX",
        "colab": {
          "base_uri": "https://localhost:8080/"
        },
        "outputId": "dd240bbc-144e-451b-eb41-fd589ed8e66a"
      },
      "execution_count": null,
      "outputs": [
        {
          "output_type": "execute_result",
          "data": {
            "text/plain": [
              "10"
            ]
          },
          "metadata": {},
          "execution_count": 3
        }
      ]
    },
    {
      "cell_type": "markdown",
      "source": [
        "## Olá mundo!\n",
        "\n",
        "Vamso conhecer mais como funciona o ambiente interativo de um notebook. Para isso vamos executar nosso primeiro comando em Python: [`print()`](https://docs.python.org/3/library/functions.html#print)"
      ],
      "metadata": {
        "id": "aLSFP2V7XTfe"
      }
    },
    {
      "cell_type": "code",
      "source": [
        "print('Hello World!')"
      ],
      "metadata": {
        "id": "5s5z5TeP6LDU",
        "colab": {
          "base_uri": "https://localhost:8080/"
        },
        "outputId": "75a27e56-51e8-4fbe-8c9f-97d6de807b05"
      },
      "execution_count": null,
      "outputs": [
        {
          "output_type": "stream",
          "name": "stdout",
          "text": [
            "Hello World!\n"
          ]
        }
      ]
    },
    {
      "cell_type": "code",
      "source": [
        "print(20)"
      ],
      "metadata": {
        "id": "tNeEkSW06K8X",
        "colab": {
          "base_uri": "https://localhost:8080/"
        },
        "outputId": "426e709d-5c4e-4b03-b9a4-b2ffa017a69e"
      },
      "execution_count": null,
      "outputs": [
        {
          "output_type": "stream",
          "name": "stdout",
          "text": [
            "20\n"
          ]
        }
      ]
    },
    {
      "cell_type": "code",
      "source": [
        "print('Nome:', 'Lucas')\n",
        "print('Sobrenome:', 'Knust')\n",
        "print('L')\n",
        "print('U')\n",
        "print('C')\n",
        "print('A')\n",
        "print('S')"
      ],
      "metadata": {
        "id": "2sKZJ-PO6K0w",
        "colab": {
          "base_uri": "https://localhost:8080/"
        },
        "outputId": "81152e3d-8ef4-4c99-8dbb-992ac73c9a6a"
      },
      "execution_count": null,
      "outputs": [
        {
          "output_type": "stream",
          "name": "stdout",
          "text": [
            "Nome: Lucas\n",
            "Sobrenome: Knust\n",
            "L\n",
            "U\n",
            "C\n",
            "A\n",
            "S\n"
          ]
        }
      ]
    },
    {
      "cell_type": "markdown",
      "source": [
        "# Manipulando dados\n",
        "\n",
        "Vamos aprender sobre as variáveis no python, como elas são declaradas e utilizadas além de conhecer outros comandos dentro do Python. :D"
      ],
      "metadata": {
        "id": "iP8uWQmFYFRs"
      }
    },
    {
      "cell_type": "markdown",
      "source": [
        "## Variáveis\n",
        "\n",
        "Em Data Science nós trabalhamos com vários dados e informações, então é essencial saber trabalhar com variáveis."
      ],
      "metadata": {
        "id": "sLNVmnTbag1Z"
      }
    },
    {
      "cell_type": "markdown",
      "source": [
        "Criamos uma variável no python através da atribuição de um valor a ela.\n",
        "\n",
        "Para fazer isso, colocamos o nome da variável um sinal de igual (`=`) e o valor que queremos atribuir"
      ],
      "metadata": {
        "id": "lsCY0wahAbf6"
      }
    },
    {
      "cell_type": "code",
      "source": [
        "idade = 21"
      ],
      "metadata": {
        "id": "8J3pJghf57ZI"
      },
      "execution_count": null,
      "outputs": []
    },
    {
      "cell_type": "code",
      "source": [
        "print(idade)"
      ],
      "metadata": {
        "id": "Byehj1QR57S1",
        "colab": {
          "base_uri": "https://localhost:8080/"
        },
        "outputId": "a42c7110-82f1-472f-ef8f-95860fda6bd3"
      },
      "execution_count": null,
      "outputs": [
        {
          "output_type": "stream",
          "name": "stdout",
          "text": [
            "21\n"
          ]
        }
      ]
    },
    {
      "cell_type": "code",
      "source": [
        "idade = 22\n",
        "print(idade)"
      ],
      "metadata": {
        "id": "cMjXA8DO58Uj",
        "colab": {
          "base_uri": "https://localhost:8080/"
        },
        "outputId": "4083cbe2-6e32-488d-84cf-8d3e82b9a267"
      },
      "execution_count": null,
      "outputs": [
        {
          "output_type": "stream",
          "name": "stdout",
          "text": [
            "22\n"
          ]
        }
      ]
    },
    {
      "cell_type": "code",
      "source": [
        "idade = 30\n",
        "idade"
      ],
      "metadata": {
        "id": "82qmrXyz58SD",
        "colab": {
          "base_uri": "https://localhost:8080/"
        },
        "outputId": "e1269dc6-993f-4c25-c3de-d0d97e77c195"
      },
      "execution_count": null,
      "outputs": [
        {
          "output_type": "execute_result",
          "data": {
            "text/plain": [
              "30"
            ]
          },
          "metadata": {},
          "execution_count": 25
        }
      ]
    },
    {
      "cell_type": "code",
      "source": [
        "nome = 'Lucas'\n",
        "nome"
      ],
      "metadata": {
        "id": "h0QjCDb15z7-",
        "colab": {
          "base_uri": "https://localhost:8080/",
          "height": 35
        },
        "outputId": "35eb04db-182c-4e66-f019-afe20a069b6d"
      },
      "execution_count": null,
      "outputs": [
        {
          "output_type": "execute_result",
          "data": {
            "text/plain": [
              "'Lucas'"
            ],
            "application/vnd.google.colaboratory.intrinsic+json": {
              "type": "string"
            }
          },
          "metadata": {},
          "execution_count": 36
        }
      ]
    },
    {
      "cell_type": "markdown",
      "source": [
        "Nomes que **não** podemos definir para variáveis:\n",
        "\n",
        "- **Nomes que começam com números**\n",
        "  - Exemplos: `10_notas`, `2_nomes_casa`, etc.\n",
        "- **Palavras separada por espaço**\n",
        "  - Exemplos: `Nome escola`, `notas estudantes`, etc.\n",
        "- **Nomes de funções do Python**\n",
        "  - Exemplos: `print`, `type`, etc."
      ],
      "metadata": {
        "id": "om2N0jHKAzwL"
      }
    },
    {
      "cell_type": "markdown",
      "source": [
        "> Letras maiúsculas e minúsculas vão gerar diferentes variáveis. A varíavel `idade` é diferente de `Idade` que por sua vez também é diferente de `IDADE`:\n",
        "``` Python\n",
        "idade = 1\n",
        "Idade = 2\n",
        "IDADE = 3\n",
        "_idade = 4\n",
        "_idade_ = 5\n",
        "print(idade, Idade, IDADE, _idade, _idade_)\n",
        "1 2 3 4 5\n",
        "```"
      ],
      "metadata": {
        "id": "A19vY2GVMujB"
      }
    },
    {
      "cell_type": "markdown",
      "source": [
        "## Tipos de variáveis\n",
        "\n",
        "Cada variável contém uma classe especifica quanto ao tipo de objeto que ela está se referenciando. Essas classes vão ser diferentes a partir do tipo de dado que nós atribuimos a uma variável.\n",
        "\n",
        "Para saber a classe de cada elemento usamos a função [`type()`](https://docs.python.org/3/library/functions.html#type)"
      ],
      "metadata": {
        "id": "UqhzuBhBHsps"
      }
    },
    {
      "cell_type": "code",
      "source": [
        "i = 10\n",
        "type(i)"
      ],
      "metadata": {
        "id": "-tb-XRcq5v9W",
        "colab": {
          "base_uri": "https://localhost:8080/"
        },
        "outputId": "349d1887-5037-41d1-e216-266e7032cbec"
      },
      "execution_count": null,
      "outputs": [
        {
          "output_type": "execute_result",
          "data": {
            "text/plain": [
              "int"
            ]
          },
          "metadata": {},
          "execution_count": 37
        }
      ]
    },
    {
      "cell_type": "code",
      "source": [
        "a = '7'\n",
        "type(a)"
      ],
      "metadata": {
        "id": "5ncn48tw5vw2",
        "colab": {
          "base_uri": "https://localhost:8080/"
        },
        "outputId": "2661ced3-4cfa-4708-a962-9b0f6c515169"
      },
      "execution_count": null,
      "outputs": [
        {
          "output_type": "execute_result",
          "data": {
            "text/plain": [
              "str"
            ]
          },
          "metadata": {},
          "execution_count": 38
        }
      ]
    },
    {
      "cell_type": "code",
      "source": [
        "b = True\n",
        "type(b)"
      ],
      "metadata": {
        "id": "PURhkDrw5vpB",
        "colab": {
          "base_uri": "https://localhost:8080/"
        },
        "outputId": "b1d1280c-f491-4bce-ecd1-9a75e1d84984"
      },
      "execution_count": null,
      "outputs": [
        {
          "output_type": "execute_result",
          "data": {
            "text/plain": [
              "bool"
            ]
          },
          "metadata": {},
          "execution_count": 40
        }
      ]
    },
    {
      "cell_type": "code",
      "source": [
        "c =3.144444444\n",
        "type(c)"
      ],
      "metadata": {
        "id": "w0XcF4MC5vhw",
        "colab": {
          "base_uri": "https://localhost:8080/"
        },
        "outputId": "8b89f4eb-2222-4ec5-c442-cfa896d651ec"
      },
      "execution_count": null,
      "outputs": [
        {
          "output_type": "execute_result",
          "data": {
            "text/plain": [
              "float"
            ]
          },
          "metadata": {},
          "execution_count": 41
        }
      ]
    },
    {
      "cell_type": "markdown",
      "source": [
        "Em um conjunto de dados escolares podemos ter vários tipos de informações. Digamos que tenhamos acesso à ficha de dados do aluno *Frabicio Daniel* como transformamos ela em variáveis no Python?\n",
        "\n",
        "#### Ficha:\n",
        "\n",
        "- Nome: Fabricio Daniel\n",
        "- Idade: 15 anos\n",
        "- Media do semestre: 8,45\n",
        "- Situação de aprovação: Verdadeira (aprovado)"
      ],
      "metadata": {
        "id": "O-FxDumfWu0C"
      }
    },
    {
      "cell_type": "code",
      "source": [
        "Nome = 'Fabricio Daniel'\n",
        "Idade = 15\n",
        "Media = 8.45\n",
        "Passou = True\n",
        "print(Nome,Idade,Media,Passou)"
      ],
      "metadata": {
        "id": "xZ3Exi2L5ozi",
        "colab": {
          "base_uri": "https://localhost:8080/"
        },
        "outputId": "b3eb6a1b-3c43-4692-e7f9-aad0f5e713aa"
      },
      "execution_count": null,
      "outputs": [
        {
          "output_type": "stream",
          "name": "stdout",
          "text": [
            "Fabricio Daniel 15 8.45 True\n"
          ]
        }
      ]
    },
    {
      "cell_type": "markdown",
      "source": [
        "## Variáveis numéricas\n",
        "\n",
        "Entre os tipos de dados numéricos vamos nos focar no tipo `inteiro` e `float`."
      ],
      "metadata": {
        "id": "KFq_8Sxf-OG0"
      }
    },
    {
      "cell_type": "markdown",
      "source": [
        "Temos uma tabela de informação de empregos quanto ao cargo, quantidade de pessoas empregadas e o salário correspondente:\n",
        "\n",
        "|Cargo | Quantidade | Salário|\n",
        "|---|---|---|\n",
        "|Segurança | 5 | 3000 |\n",
        "|Docente | 16| 6000|\n",
        "|Diretoria| 1 |12500|\n",
        "\n",
        "Precisamos trabalhar com esses dados fornecendo:\n",
        "\n",
        "- A quantidade total de empregados;\n",
        "- A diferença entre o salário mais baixo e mais alto; e\n",
        "- A média ponderada da faixa salarial da escola."
      ],
      "metadata": {
        "id": "8_HYUbkVYdQY"
      }
    },
    {
      "cell_type": "code",
      "source": [
        "q_seguranca = 5\n",
        "s_seguranca = 3000\n",
        "\n",
        "q_docente = 16\n",
        "s_docente = 6000\n",
        "\n",
        "q_diretoria = 1\n",
        "s_diretoria = 12500"
      ],
      "metadata": {
        "id": "xJIq5MRRZAlj"
      },
      "execution_count": null,
      "outputs": []
    },
    {
      "cell_type": "code",
      "source": [
        "total_empregados = q_seguranca + q_docente + q_diretoria\n",
        "total_empregados"
      ],
      "metadata": {
        "id": "pIgt-k6T5WpB",
        "colab": {
          "base_uri": "https://localhost:8080/"
        },
        "outputId": "fbf593a4-c796-46e5-a56a-5f54112778a1"
      },
      "execution_count": null,
      "outputs": [
        {
          "output_type": "execute_result",
          "data": {
            "text/plain": [
              "22"
            ]
          },
          "metadata": {},
          "execution_count": 48
        }
      ]
    },
    {
      "cell_type": "code",
      "source": [
        "diferenca_salario = s_diretoria - s_seguranca\n",
        "diferenca_salario"
      ],
      "metadata": {
        "id": "bL9uGHvp5We5",
        "colab": {
          "base_uri": "https://localhost:8080/"
        },
        "outputId": "e00f4dc9-9674-4fc2-a6b5-95bcf4dbc60b"
      },
      "execution_count": null,
      "outputs": [
        {
          "output_type": "execute_result",
          "data": {
            "text/plain": [
              "9500"
            ]
          },
          "metadata": {},
          "execution_count": 49
        }
      ]
    },
    {
      "cell_type": "code",
      "source": [
        "media = (q_seguranca*s_seguranca + q_diretoria*s_diretoria + q_docente*s_docente) / (total_empregados)\n",
        "media"
      ],
      "metadata": {
        "id": "GpTS_c8_5WX_",
        "colab": {
          "base_uri": "https://localhost:8080/"
        },
        "outputId": "7819f8ec-af32-4df9-87fb-51be06d5e607"
      },
      "execution_count": null,
      "outputs": [
        {
          "output_type": "execute_result",
          "data": {
            "text/plain": [
              "5613.636363636364"
            ]
          },
          "metadata": {},
          "execution_count": 55
        }
      ]
    },
    {
      "cell_type": "markdown",
      "source": [
        "## Strings"
      ],
      "metadata": {
        "id": "yQy7b0ZWoD-P"
      }
    },
    {
      "cell_type": "markdown",
      "source": [
        "Strings são caracterizada por ter um conjunto de caracteres formando um texto.\n",
        "\n",
        "Strigs podem ser criadas ao atribuirmos a uma variável um dado que esteja entre aspas simples (`'`) ou aspas duplas (`\"`)"
      ],
      "metadata": {
        "id": "vlo2-DXusv3s"
      }
    },
    {
      "cell_type": "code",
      "source": [
        "a = \"salve\"\n",
        "b = 'salves'\n",
        "print(type(a),type(b))"
      ],
      "metadata": {
        "id": "SSinaAb15FWn",
        "colab": {
          "base_uri": "https://localhost:8080/"
        },
        "outputId": "f778ec02-1f2c-43c5-b366-ede38229b606"
      },
      "execution_count": null,
      "outputs": [
        {
          "output_type": "stream",
          "name": "stdout",
          "text": [
            "<class 'str'> <class 'str'>\n"
          ]
        }
      ]
    },
    {
      "cell_type": "markdown",
      "source": [
        "As variáveis textuais contém vários métodos que nos ajudam a formatar strings. Métódos podem ser executados ao definirmos um objeto seguindo a seguinte estrutura:\n",
        "\n",
        "```\n",
        "objeto.metodo()\n",
        "```\n",
        "\n",
        "Existem métodos que não necessitam dos `()`, é preciso verificar a documentação de cada caso."
      ],
      "metadata": {
        "id": "2e9UD_CCxqz_"
      }
    },
    {
      "cell_type": "markdown",
      "source": [
        "---\n",
        "**Situação:**\n",
        "\n",
        "Recebemos uma variável com o nome de uma professora da escola para inserimos no cadastro. No entanto, precisamos tratar esse texto antes de inserirmos no sistema"
      ],
      "metadata": {
        "id": "p6aPmMGP4tf9"
      }
    },
    {
      "cell_type": "code",
      "source": [
        "texto = '  Geovana Alessandra dias Sanyos '"
      ],
      "metadata": {
        "id": "4tkS8Iit1Ccg"
      },
      "execution_count": null,
      "outputs": []
    },
    {
      "cell_type": "markdown",
      "source": [
        "O objetivo final é que o nome esteja da seguinte forma:\n",
        "\n",
        "```\n",
        "'GEOVANA ALESSANDRA DIAS SANTOS'\n",
        "```"
      ],
      "metadata": {
        "id": "Dg2ZXSZOGzjC"
      }
    },
    {
      "cell_type": "markdown",
      "source": [
        "### [`str.upper()` ](https://docs.python.org/3/library/stdtypes.html#str.upper)\n",
        "Converte uma string para maiúsculas"
      ],
      "metadata": {
        "id": "iVTAD8q702eN"
      }
    },
    {
      "cell_type": "code",
      "source": [
        "texto.upper()"
      ],
      "metadata": {
        "id": "sWMt1iWW5LdN",
        "colab": {
          "base_uri": "https://localhost:8080/",
          "height": 35
        },
        "outputId": "4604a4fb-567e-4085-cf71-a1e5a6a2f991"
      },
      "execution_count": null,
      "outputs": [
        {
          "output_type": "execute_result",
          "data": {
            "text/plain": [
              "'  GEOVANA ALESSANDRA DIAS SANTOS '"
            ],
            "application/vnd.google.colaboratory.intrinsic+json": {
              "type": "string"
            }
          },
          "metadata": {},
          "execution_count": 72
        }
      ]
    },
    {
      "cell_type": "markdown",
      "source": [
        "### [`str.lower()`](https://docs.python.org/3/library/stdtypes.html#str.lower)\n",
        "Método converte uma string para minúsculas."
      ],
      "metadata": {
        "id": "hbDSBtMV1TpG"
      }
    },
    {
      "cell_type": "code",
      "source": [
        "texto.lower()"
      ],
      "metadata": {
        "id": "ypSOC5WR5MTi",
        "colab": {
          "base_uri": "https://localhost:8080/",
          "height": 35
        },
        "outputId": "93fd963e-2952-415b-cde2-1c4fb9baa465"
      },
      "execution_count": null,
      "outputs": [
        {
          "output_type": "execute_result",
          "data": {
            "text/plain": [
              "'  geovana alessandra dias santos '"
            ],
            "application/vnd.google.colaboratory.intrinsic+json": {
              "type": "string"
            }
          },
          "metadata": {},
          "execution_count": 73
        }
      ]
    },
    {
      "cell_type": "markdown",
      "source": [
        "### [`str.strip()`](https://docs.python.org/3/library/stdtypes.html#str.strip)\n",
        "Método remove os espaços em branco do início e do fim de uma string."
      ],
      "metadata": {
        "id": "kz47eWM11gii"
      }
    },
    {
      "cell_type": "code",
      "source": [
        "texto.strip()"
      ],
      "metadata": {
        "id": "Xys25o1N5NKD",
        "colab": {
          "base_uri": "https://localhost:8080/",
          "height": 35
        },
        "outputId": "12c18be0-b48d-4f02-d351-4de7fdebfa26"
      },
      "execution_count": null,
      "outputs": [
        {
          "output_type": "execute_result",
          "data": {
            "text/plain": [
              "'Geovana Alessandra dias Santos'"
            ],
            "application/vnd.google.colaboratory.intrinsic+json": {
              "type": "string"
            }
          },
          "metadata": {},
          "execution_count": 74
        }
      ]
    },
    {
      "cell_type": "markdown",
      "source": [
        "### [`str.replace(antigo, novo)`](https://docs.python.org/3/library/stdtypes.html#str.replace)\n",
        "\n",
        "Método substitui todas as ocorrências do texto \"antigo\" na string por \"novo\""
      ],
      "metadata": {
        "id": "m6notiyS1SCV"
      }
    },
    {
      "cell_type": "code",
      "source": [
        "texto.replace('Sanyos', 'Santos')"
      ],
      "metadata": {
        "id": "oY2mU2Id5OcO",
        "colab": {
          "base_uri": "https://localhost:8080/",
          "height": 35
        },
        "outputId": "5eedf3a5-663f-4f26-cb11-e4e25cde3ffc"
      },
      "execution_count": null,
      "outputs": [
        {
          "output_type": "execute_result",
          "data": {
            "text/plain": [
              "'  Geovana Alessandra dias Santos '"
            ],
            "application/vnd.google.colaboratory.intrinsic+json": {
              "type": "string"
            }
          },
          "metadata": {},
          "execution_count": 77
        }
      ]
    },
    {
      "cell_type": "markdown",
      "source": [
        "### Observações\n",
        "\n",
        "1. Os métodos retornam uma **tranformação**, não a executam no texto!\n",
        "\n",
        "2. Além disso, podemos acumular a execução de métodos."
      ],
      "metadata": {
        "id": "zukvEjhG2Rcn"
      }
    },
    {
      "cell_type": "code",
      "source": [
        "texto"
      ],
      "metadata": {
        "id": "Q6O5y20u5PQk",
        "colab": {
          "base_uri": "https://localhost:8080/",
          "height": 35
        },
        "outputId": "ea2c8b77-0ea5-481c-f404-7d42c32781be"
      },
      "execution_count": null,
      "outputs": [
        {
          "output_type": "execute_result",
          "data": {
            "text/plain": [
              "'  Geovana Alessandra dias Sanyos '"
            ],
            "application/vnd.google.colaboratory.intrinsic+json": {
              "type": "string"
            }
          },
          "metadata": {},
          "execution_count": 78
        }
      ]
    },
    {
      "cell_type": "markdown",
      "source": [
        "Para que seja executada a transformação nós podemos atribuir às saídas das transformações à variável"
      ],
      "metadata": {
        "id": "1KbwfVut2h6I"
      }
    },
    {
      "cell_type": "code",
      "source": [
        "texto = texto.strip().replace('Sanyos', 'Santos').upper()\n",
        "texto"
      ],
      "metadata": {
        "id": "W6DiHv2H5Tq-",
        "colab": {
          "base_uri": "https://localhost:8080/",
          "height": 35
        },
        "outputId": "17486fcb-1256-4fa3-990f-3df3abf3da9f"
      },
      "execution_count": null,
      "outputs": [
        {
          "output_type": "execute_result",
          "data": {
            "text/plain": [
              "'GEOVANA ALESSANDRA DIAS SANTOS'"
            ],
            "application/vnd.google.colaboratory.intrinsic+json": {
              "type": "string"
            }
          },
          "metadata": {},
          "execution_count": 81
        }
      ]
    },
    {
      "cell_type": "markdown",
      "source": [
        "## Coletando dados\n",
        "\n",
        "Em algumas aplicações precisamos coletar valores da pessoa usuária do nosso projeto. Em python conseguimos coletar dados de usuário através do comando [`input()`](https://docs.python.org/3/library/functions.html#input).\n",
        "\n",
        "Para fazer essa coleta podemos atribuir essa função à uma variável."
      ],
      "metadata": {
        "id": "0h9Fh5G9kHCa"
      }
    },
    {
      "cell_type": "code",
      "source": [
        "nome = input('Qual seu nome: ')"
      ],
      "metadata": {
        "id": "iEJyxhIj41id",
        "colab": {
          "base_uri": "https://localhost:8080/"
        },
        "outputId": "e2c675ff-2374-43e8-9db3-4168da90365d"
      },
      "execution_count": null,
      "outputs": [
        {
          "name": "stdout",
          "output_type": "stream",
          "text": [
            "Qual seu nome: Lucas\n"
          ]
        }
      ]
    },
    {
      "cell_type": "code",
      "source": [
        "nome"
      ],
      "metadata": {
        "id": "MoMXzZkC41Ze",
        "colab": {
          "base_uri": "https://localhost:8080/",
          "height": 35
        },
        "outputId": "17784f8d-a283-49a6-cc88-5a377a25ffa7"
      },
      "execution_count": null,
      "outputs": [
        {
          "output_type": "execute_result",
          "data": {
            "text/plain": [
              "'Lucas'"
            ],
            "application/vnd.google.colaboratory.intrinsic+json": {
              "type": "string"
            }
          },
          "metadata": {},
          "execution_count": 83
        }
      ]
    },
    {
      "cell_type": "markdown",
      "source": [
        "O retorno desse comando sempre será uma *string*. Isso quer dizer que mesmo que façamos uma coleta de algo que deva ser numérico, ele será uma string.\n",
        "\n",
        "Então, será preciso **converter o resultado caso não seja desejável obter uma string**."
      ],
      "metadata": {
        "id": "7z7hcLCk_aCY"
      }
    },
    {
      "cell_type": "markdown",
      "source": [
        "Existem funções para conversão de valores:\n",
        "\n",
        "- Inteiros: [`int(dado_para_conversao)`](https://docs.python.org/3/library/functions.html#int)\n",
        "- Float: [`float(dado_para_conversao)`](https://docs.python.org/3/library/functions.html#float)\n",
        "- String: [`str(dado_para_conversao)`](https://docs.python.org/3/library/functions.html#func-str)\n",
        "- Booleano: [`bool(dado_para_conversao)`](https://docs.python.org/3/library/functions.html#bool)"
      ],
      "metadata": {
        "id": "TOlegATj1Jfp"
      }
    },
    {
      "cell_type": "code",
      "source": [
        "ano_entrada = input('Escreva o ano de ingresso do(a) estudante: ')"
      ],
      "metadata": {
        "id": "MQRu7y9646S9",
        "colab": {
          "base_uri": "https://localhost:8080/"
        },
        "outputId": "5360330d-7036-4f66-dc86-a79ff9d3cc07"
      },
      "execution_count": null,
      "outputs": [
        {
          "name": "stdout",
          "output_type": "stream",
          "text": [
            "Escreva o ano de ingresso do(a) estudante: 2020\n"
          ]
        }
      ]
    },
    {
      "cell_type": "code",
      "source": [
        "type(ano_entrada)"
      ],
      "metadata": {
        "id": "FwezgXQA48VF",
        "colab": {
          "base_uri": "https://localhost:8080/"
        },
        "outputId": "cdacb40b-e3ca-4bdb-9d27-9bc8911fa247"
      },
      "execution_count": null,
      "outputs": [
        {
          "output_type": "execute_result",
          "data": {
            "text/plain": [
              "str"
            ]
          },
          "metadata": {},
          "execution_count": 85
        }
      ]
    },
    {
      "cell_type": "code",
      "source": [
        "ano_entrada = int(input('Escreva o ano de ingresso do(a) estudante: '))"
      ],
      "metadata": {
        "id": "bbRqzmOJ49Q1",
        "colab": {
          "base_uri": "https://localhost:8080/"
        },
        "outputId": "28ae14be-2a7e-4f94-db86-cf86dc21f7d2"
      },
      "execution_count": null,
      "outputs": [
        {
          "name": "stdout",
          "output_type": "stream",
          "text": [
            "Escreva o ano de ingresso do(a) estudante: 2020\n"
          ]
        }
      ]
    },
    {
      "cell_type": "code",
      "source": [
        "type(ano_entrada)"
      ],
      "metadata": {
        "id": "nu5xycbG4-X1",
        "colab": {
          "base_uri": "https://localhost:8080/"
        },
        "outputId": "4d9fa5e1-85be-4edc-c4ce-5dc0cb49d7a9"
      },
      "execution_count": null,
      "outputs": [
        {
          "output_type": "execute_result",
          "data": {
            "text/plain": [
              "int"
            ]
          },
          "metadata": {},
          "execution_count": 94
        }
      ]
    },
    {
      "cell_type": "markdown",
      "source": [
        "Buscaremos apresentar melhor agora o resultado que obtivemos da transformação. Nós conseguimos formatar e apresentar o nosso resultado misturando strings com valores não textuais.\n",
        "\n",
        "Para fazer isso usamos a estrutura de formatação `f` com strings."
      ],
      "metadata": {
        "id": "yNI2-XTbB3aS"
      }
    },
    {
      "cell_type": "code",
      "source": [
        "nota_entrada = float(input('Digite a nota do teste de ingresso: '))\n",
        "print(f'A nota é {nota_entrada} - Ano de entrada {ano_entrada}')"
      ],
      "metadata": {
        "id": "b1eYnEX-4wXz",
        "colab": {
          "base_uri": "https://localhost:8080/"
        },
        "outputId": "2916b9a9-5332-4241-970d-2b669d3bffa7"
      },
      "execution_count": null,
      "outputs": [
        {
          "output_type": "stream",
          "name": "stdout",
          "text": [
            "Digite a nota do teste de ingresso: 4.5\n",
            "A nota é 4.5 - Ano de entrada 2020\n"
          ]
        }
      ]
    },
    {
      "cell_type": "markdown",
      "source": [
        "# Estruturas condicionais"
      ],
      "metadata": {
        "id": "NwRaiHHHhhyl"
      }
    },
    {
      "cell_type": "markdown",
      "source": [
        "## `IF` e `ELSE`\n",
        "\n",
        "O `if` e `else` são duas estruturas condicionais. O `if` executará o bloco de comando caso a condição colocada for **verdadeira**. O `else` é um caso em que a condicional de `if` seja **falsa**."
      ],
      "metadata": {
        "id": "qXZqg9aYEhAh"
      }
    },
    {
      "cell_type": "markdown",
      "source": [
        "O `if` é uma palavra-chave em Python que significa \"se\". Ele é usado para formar uma estrutura condicional, que permite que você verifique se uma determinada condição é verdadeira ou falsa e, em seguida, execute um bloco de código específico dependendo do resultado da verificação. A sintaxe para usar o `if` é:\n",
        "\n",
        "\n",
        "\n",
        "```\n",
        "if condição:\n",
        "    # faça algo\n",
        "```\n",
        "\n"
      ],
      "metadata": {
        "id": "EIhlqHXd2Gil"
      }
    },
    {
      "cell_type": "code",
      "source": [
        "if 2 > 6.0:\n",
        "  print(90)\n",
        "else:\n",
        "  print(7)"
      ],
      "metadata": {
        "id": "tKtzkTXW4j73",
        "colab": {
          "base_uri": "https://localhost:8080/"
        },
        "outputId": "281c7b69-f7c5-4e98-c3b1-742697a39be2"
      },
      "execution_count": null,
      "outputs": [
        {
          "output_type": "stream",
          "name": "stdout",
          "text": [
            "7\n"
          ]
        }
      ]
    },
    {
      "cell_type": "markdown",
      "source": [
        "Já o `else` em Python é usada em conjunto com a palavra-chave `if` para formar uma estrutura condicional. A sintaxe para usar o `else` é:\n",
        "\n",
        "```\n",
        "if condição:\n",
        "  # código caso seja verdade\n",
        "else:\n",
        "  # código caso seja falso\n",
        "```\n",
        "\n",
        "O `else` é executado quando a condição verificada pelo `if` é avaliada como `False`."
      ],
      "metadata": {
        "id": "27RW2v_sIKct"
      }
    },
    {
      "cell_type": "markdown",
      "source": [
        "---\n",
        "**Situação:**\n",
        "\n",
        "Receberemos a média de estudantes e precisamos de um algoritmo que execute a análise e decida se esse estudante está **Aprovado** ou Reprovado, mostrando uma mensagem do resultado. Para ser aprovado, a média precisa ser igual ou superior à 6.0."
      ],
      "metadata": {
        "id": "BqORg85XX-Nl"
      }
    },
    {
      "cell_type": "code",
      "source": [
        "media = float(input('Digite a média: '))\n",
        "if media >= 6.0:\n",
        "  print(\"Aprovado\")\n",
        "else:\n",
        "  print('Reprovado')"
      ],
      "metadata": {
        "id": "yaR8bt1P4iCv",
        "colab": {
          "base_uri": "https://localhost:8080/"
        },
        "outputId": "c986fe61-45e8-40b9-ced8-fb25da2b9055"
      },
      "execution_count": null,
      "outputs": [
        {
          "output_type": "stream",
          "name": "stdout",
          "text": [
            "Digite a média: 6\n",
            "Aprovado\n"
          ]
        }
      ]
    },
    {
      "cell_type": "markdown",
      "source": [
        "Agora a nossa instituição de ensino lançou uma nota oficial que pessoas que tenham média entre 4.0 e 6.0 podem fazer os cursos de **Recuperação** nas férias para poder recuperar a nota.\n",
        "\n",
        "Então podemos agora fazer um conjunto de `if`s para que possamos estruturar essa nova condição."
      ],
      "metadata": {
        "id": "bD9O17HB6LUo"
      }
    },
    {
      "cell_type": "code",
      "source": [
        "media = float(input('Digite a média: '))\n",
        "if media >= 6.0:\n",
        "  print(\"Aprovado\")\n",
        "elif 6.0 > media >=4.0:\n",
        "  print(\"Recuperação\")\n",
        "elif media < 4.0:\n",
        "  print('Reprovado')"
      ],
      "metadata": {
        "id": "Rkde8bai4gvq",
        "colab": {
          "base_uri": "https://localhost:8080/"
        },
        "outputId": "cc538b85-045a-421e-c863-b828a26bfc55"
      },
      "execution_count": null,
      "outputs": [
        {
          "output_type": "stream",
          "name": "stdout",
          "text": [
            "Digite a média: 9\n",
            "Aprovado\n"
          ]
        }
      ]
    },
    {
      "cell_type": "markdown",
      "source": [
        "Notemos que em casos com 3 situações como esse precisamos definir bem nossas condições. Pois foi feita uma construção com `else` no final, ele irá considerar apenas a alguma condicional para ser o caso **falso** podendo resultar em duas (ou mais) execuções.\n",
        "\n",
        "Por exemplo:"
      ],
      "metadata": {
        "id": "D5e2mByjvycO"
      }
    },
    {
      "cell_type": "code",
      "source": [
        "media = float(input('Digite a média: '))"
      ],
      "metadata": {
        "id": "tKvjzq414fAN"
      },
      "execution_count": null,
      "outputs": []
    },
    {
      "cell_type": "markdown",
      "source": [
        "## `ELIF`\n",
        "\n",
        "O `elif` é uma palavra-chave em Python que significa \"senão, se\" e pode ser considerado uma união do `else` com um `if`. Ela é usada em conjunto com a palavra-chave `if` para formar uma estrutura condicional encadeada.\n",
        "\n"
      ],
      "metadata": {
        "id": "04T5g-7h4zWx"
      }
    },
    {
      "cell_type": "markdown",
      "source": [
        "A sintaxe para usar o `elif` é:\n",
        "\n",
        "```\n",
        "if condição1:\n",
        "    # faça algo\n",
        "elif condição2:\n",
        "    # faça outra coisa\n",
        "elif condição3:\n",
        "    # faça mais alguma coisa\n",
        "else:\n",
        "    # faça algo diferente\n",
        "```\n",
        "\n",
        "O `elif` permite que você verifique várias condições de forma encadeada, economizando espaço em seu código. Se a primeira condição for avaliada como `False`, o interpretador Python avaliará a próxima condição no `elif`. Isso continuará até que uma condição seja avaliada como `True` ou até que o `else` seja atingido. Se nenhuma das condições forem avaliadas como `True`, a execução do código do `else` será iniciada."
      ],
      "metadata": {
        "id": "rNBHr5mm1Lm6"
      }
    },
    {
      "cell_type": "markdown",
      "source": [
        "Vamos usar o mesmo caso anterior:"
      ],
      "metadata": {
        "id": "MVoykFbB4bd4"
      }
    },
    {
      "cell_type": "code",
      "source": [
        "media = float(input('Digite a média: '))\n",
        "if media >= 6.0:\n",
        "  print(\"Aprovado\")\n",
        "elif 6.0 > media >=4.0:\n",
        "  print(\"Recuperação\")\n",
        "else:\n",
        "  print('Reprovado')"
      ],
      "metadata": {
        "id": "UJCHKoX54dc2",
        "colab": {
          "base_uri": "https://localhost:8080/"
        },
        "outputId": "72afb3e3-94fa-429c-f7c0-5bd027bb5274"
      },
      "execution_count": null,
      "outputs": [
        {
          "output_type": "stream",
          "name": "stdout",
          "text": [
            "Digite a média: 3.9\n",
            "Reprovado\n"
          ]
        }
      ]
    },
    {
      "cell_type": "markdown",
      "source": [
        "## Operadores\n",
        "\n",
        "Durante a construção de comandos por vezes precisamos de uma elaboração maior de da expressão condicional, necessitando que alguns operadores lógicos estejam integrados."
      ],
      "metadata": {
        "id": "Tf1wSOem6iwZ"
      }
    },
    {
      "cell_type": "markdown",
      "source": [
        "### `AND`, `OR`, `NOT`\n",
        "\n",
        "Os operadores lógicos `and`, `or` e `not` são usados para combinar expressões lógicas em Python. Eles são usados frequentemente em conjunto com o `if` para criar estruturas condicionais mais complexas.\n"
      ],
      "metadata": {
        "id": "GFIZnRWXGPWO"
      }
    },
    {
      "cell_type": "markdown",
      "source": [
        "- `AND` é usado para verificar se duas condições são verdadeiras. A expressão lógica¹ `x and y` é avaliada como `True` apenas se **ambas as condições `x` e `y` forem verdadeiras**, e como `False` caso contrário.\n",
        "\n",
        "- `OR` é usado para verificar se pelo menos uma das condições é verdadeira. A expressão lógica `x or y` é avaliada como `True` **se pelo menos uma das condições `x` ou `y` for verdadeira**, e como `False` se ambas forem falsas.\n",
        "\n",
        "- `NOT` é usado para **negar uma condição**. A expressão lógica not x é avaliada como True se a condição x for falsa, e como False se a condição x for verdadeira.\n",
        "\n",
        "¹ Uma expressão lógica é uma declaração que pode ser avaliada como verdadeira ou falsa. Ela é composta por operandos lógicos² e operadores lógicos³, que são usados ​​para combinar várias expressões lógicas em uma única expressão.\n",
        "\n",
        "² Os operandos lógicos são os elementos que são comparados ou avaliados em uma expressão lógica. Eles são geralmente valores verdadeiros ou falsos, mas também podem ser expressões lógicas mais complexas. Em Python, os operandos lógicos são os valores `True` e `False`.\n",
        "\n",
        "³ Os operadores lógicos são os símbolos ou palavras-chave que são usados ​​para combinar várias expressões lógicas em uma única expressão. Em Python, os operadores lógicos são `and`, `or` e `not`, bem como as palavras-chave `if`, `elif` e `else`."
      ],
      "metadata": {
        "id": "Z_dgAoHXJbzB"
      }
    },
    {
      "cell_type": "code",
      "source": [
        "t1 = t2 = True\n",
        "f1 = f2 = False"
      ],
      "metadata": {
        "id": "Fs_qb0dLOXsj"
      },
      "execution_count": null,
      "outputs": []
    },
    {
      "cell_type": "code",
      "source": [
        "if t1 and t2:\n",
        "  print('expressão verdadeira')\n",
        "else:\n",
        "  print('expressão falsa')"
      ],
      "metadata": {
        "id": "kL4QVdlZ4O43",
        "colab": {
          "base_uri": "https://localhost:8080/"
        },
        "outputId": "9882ae1c-a3f2-42d0-a3a8-5dff08f597d7"
      },
      "execution_count": null,
      "outputs": [
        {
          "output_type": "stream",
          "name": "stdout",
          "text": [
            "expressão verdadeira\n"
          ]
        }
      ]
    },
    {
      "cell_type": "code",
      "source": [
        "if t2 or f1:\n",
        "  print('expressão verdadeira')\n",
        "else:\n",
        "  print('expressão falsa')"
      ],
      "metadata": {
        "id": "JmQYjvsz4Pw5",
        "colab": {
          "base_uri": "https://localhost:8080/"
        },
        "outputId": "0a71e027-1a69-412e-db33-740d8ae9597c"
      },
      "execution_count": null,
      "outputs": [
        {
          "output_type": "stream",
          "name": "stdout",
          "text": [
            "expressão verdadeira\n"
          ]
        }
      ]
    },
    {
      "cell_type": "code",
      "source": [
        "if not t1:\n",
        "  print('expressão verdadeira')\n",
        "else:\n",
        "  print('expressão falsa')"
      ],
      "metadata": {
        "id": "WHfJ-ZLM4Q3k",
        "colab": {
          "base_uri": "https://localhost:8080/"
        },
        "outputId": "b918d761-7226-4117-ef95-e3d7af934fbd"
      },
      "execution_count": null,
      "outputs": [
        {
          "output_type": "stream",
          "name": "stdout",
          "text": [
            "expressão falsa\n"
          ]
        }
      ]
    },
    {
      "cell_type": "markdown",
      "source": [
        "### `IN`\n",
        "\n",
        "É usado para verificar se um elemento está presente em uma lista, tupla ou outra variável de conjunto. A expressão `x in y` é avaliada como `True` se o elemento `x` estiver presente na variável de conjunto `y`, e como `False` caso contrário."
      ],
      "metadata": {
        "id": "w7EXG1dhWtja"
      }
    },
    {
      "cell_type": "markdown",
      "source": [
        "Podemos verificar isso com variáveis de texto.\n",
        "\n",
        "---\n",
        "\n",
        "**Situação:**\n",
        "\n",
        "Na escola foi passada uma lista com nomes de estudantes que foram aprovados por média no semestre, mas é preciso verificar se alguns nomes estão nessa lista para verificar se os dados estão corretos.\n",
        "\n",
        "A lista distribuida pode ser observada abaixo:\n",
        "\n",
        "```\n",
        "lista = 'José da Silva, Maria Oliveira, Pedro Martins, Ana Souza, Carlos Rodrigues, Juliana Santos, Bruno Gomes, Beatriz Costa, Felipe Almeida, Mariana Fernandes, João Pinto, Luísa Nascimento, Gabriel Souza, Manuela Santos, Thiago Oliveira, Sofia Ferreira, Rafael Albuquerque, Isabella Gomes, Bruno Costa, Maria Martins, Rafaela Souza, Matheus Fernandes, Luísa Almeida, Beatriz Pinto, Mariana Rodrigues, Gabriel Nascimento, João Ferreira, Maria Albuquerque, Felipe Oliveira\n",
        "'\n",
        "```\n",
        "\n",
        "Os nomes que precisam ser verificados são os seguintes:\n",
        "\n",
        "```\n",
        "nome_1 = 'Mariana Rodrigues'\n",
        "nome_2 = 'Marcelo Nogueira'\n",
        "```"
      ],
      "metadata": {
        "id": "enJNp6JenQbq"
      }
    },
    {
      "cell_type": "code",
      "source": [
        "lista = 'José da Silva, Maria Oliveira, Pedro Martins, Ana Souza, Carlos Rodrigues, Juliana Santos, Bruno Gomes, Beatriz Costa, Felipe Almeida, Mariana Fernandes, João Pinto, Luísa Nascimento, Gabriel Souza, Manuela Santos, Thiago Oliveira, Sofia Ferreira, Rafael Albuquerque, Isabella Gomes, Bruno Costa, Maria Martins, Rafaela Souza, Matheus Fernandes, Luísa Almeida, Beatriz Pinto, Mariana Rodrigues, Gabriel Nascimento, João Ferreira, Maria Albuquerque, Felipe Oliveira'\n",
        "lista"
      ],
      "metadata": {
        "id": "kU25ABUQ5NBe",
        "colab": {
          "base_uri": "https://localhost:8080/",
          "height": 71
        },
        "outputId": "5c44b83c-3313-4117-d7fb-079a493da1cf"
      },
      "execution_count": null,
      "outputs": [
        {
          "output_type": "execute_result",
          "data": {
            "text/plain": [
              "'José da Silva, Maria Oliveira, Pedro Martins, Ana Souza, Carlos Rodrigues, Juliana Santos, Bruno Gomes, Beatriz Costa, Felipe Almeida, Mariana Fernandes, João Pinto, Luísa Nascimento, Gabriel Souza, Manuela Santos, Thiago Oliveira, Sofia Ferreira, Rafael Albuquerque, Isabella Gomes, Bruno Costa, Maria Martins, Rafaela Souza, Matheus Fernandes, Luísa Almeida, Beatriz Pinto, Mariana Rodrigues, Gabriel Nascimento, João Ferreira, Maria Albuquerque, Felipe Oliveira'"
            ],
            "application/vnd.google.colaboratory.intrinsic+json": {
              "type": "string"
            }
          },
          "metadata": {},
          "execution_count": 127
        }
      ]
    },
    {
      "cell_type": "code",
      "source": [
        "nome_1 = 'Mariana Rodrigues'\n",
        "nome_2 = 'Marcelo Nogueira'"
      ],
      "metadata": {
        "id": "GY82qLpivC6Y"
      },
      "execution_count": null,
      "outputs": []
    },
    {
      "cell_type": "code",
      "source": [
        "if nome_1 in lista:\n",
        "  print(f'Ta la {nome_1}')\n",
        "else:\n",
        "  print('Esqueceram')"
      ],
      "metadata": {
        "id": "ipyXfbpb37b0",
        "colab": {
          "base_uri": "https://localhost:8080/"
        },
        "outputId": "565775f7-b4fc-4073-dff1-cd5fbe7bd2a0"
      },
      "execution_count": null,
      "outputs": [
        {
          "output_type": "stream",
          "name": "stdout",
          "text": [
            "Ta la Mariana Rodrigues\n"
          ]
        }
      ]
    },
    {
      "cell_type": "code",
      "source": [
        "if nome_2 in lista:\n",
        "  print(f'Ta la {nome_2}')\n",
        "else:\n",
        "  print('Esqueceram')"
      ],
      "metadata": {
        "id": "KfXxC9A537RP",
        "colab": {
          "base_uri": "https://localhost:8080/"
        },
        "outputId": "21fc3d3c-5c67-4b4d-a3ff-fd7d7f512b9a"
      },
      "execution_count": null,
      "outputs": [
        {
          "output_type": "stream",
          "name": "stdout",
          "text": [
            "Esqueceram\n"
          ]
        }
      ]
    },
    {
      "cell_type": "markdown",
      "source": [
        "# Estruturas de repetição"
      ],
      "metadata": {
        "id": "aL1vJPewvwvz"
      }
    },
    {
      "cell_type": "markdown",
      "source": [
        "Quando temos que executar um mesmo bloco de comandos por várias vezes não é muito interessante fazer isso à mão.\n",
        "\n",
        "Imaginemos a situação de termos que coletar e imprimir a média de duas notas de **3 estudantes**:"
      ],
      "metadata": {
        "id": "VcPfCa8d-84t"
      }
    },
    {
      "cell_type": "code",
      "source": [
        "nota_1 = float(input('Digite a 1° nota: '))\n",
        "nota_2 = float(input('Digite a 2° nota: '))\n",
        "\n",
        "print(f'Média: {(nota_1+nota_2)/2}')\n",
        "\n",
        "nota_1 = float(input('Digite a 1° nota: '))\n",
        "nota_2 = float(input('Digite a 2° nota: '))\n",
        "\n",
        "print(f'Média: {(nota_1+nota_2)/2}')\n",
        "\n",
        "nota_1 = float(input('Digite a 1° nota: '))\n",
        "nota_2 = float(input('Digite a 2° nota: '))\n",
        "\n",
        "print(f'Média: {(nota_1+nota_2)/2}')"
      ],
      "metadata": {
        "id": "LzPyN4Ad3qwy",
        "colab": {
          "base_uri": "https://localhost:8080/",
          "height": 365
        },
        "outputId": "58d7cb8b-bfcf-4881-d943-3ae2669caab6"
      },
      "execution_count": null,
      "outputs": [
        {
          "output_type": "error",
          "ename": "KeyboardInterrupt",
          "evalue": "Interrupted by user",
          "traceback": [
            "\u001b[0;31m---------------------------------------------------------------------------\u001b[0m",
            "\u001b[0;31mKeyboardInterrupt\u001b[0m                         Traceback (most recent call last)",
            "\u001b[0;32m<ipython-input-7-3c8a2fe51992>\u001b[0m in \u001b[0;36m<cell line: 1>\u001b[0;34m()\u001b[0m\n\u001b[0;32m----> 1\u001b[0;31m \u001b[0mnota_1\u001b[0m \u001b[0;34m=\u001b[0m \u001b[0mfloat\u001b[0m\u001b[0;34m(\u001b[0m\u001b[0minput\u001b[0m\u001b[0;34m(\u001b[0m\u001b[0;34m'Digite a 1° nota: '\u001b[0m\u001b[0;34m)\u001b[0m\u001b[0;34m)\u001b[0m\u001b[0;34m\u001b[0m\u001b[0;34m\u001b[0m\u001b[0m\n\u001b[0m\u001b[1;32m      2\u001b[0m \u001b[0mnota_2\u001b[0m \u001b[0;34m=\u001b[0m \u001b[0mfloat\u001b[0m\u001b[0;34m(\u001b[0m\u001b[0minput\u001b[0m\u001b[0;34m(\u001b[0m\u001b[0;34m'Digite a 2° nota: '\u001b[0m\u001b[0;34m)\u001b[0m\u001b[0;34m)\u001b[0m\u001b[0;34m\u001b[0m\u001b[0;34m\u001b[0m\u001b[0m\n\u001b[1;32m      3\u001b[0m \u001b[0;34m\u001b[0m\u001b[0m\n\u001b[1;32m      4\u001b[0m \u001b[0mprint\u001b[0m\u001b[0;34m(\u001b[0m\u001b[0;34mf'Média: {(nota_1+nota_2)/2}'\u001b[0m\u001b[0;34m)\u001b[0m\u001b[0;34m\u001b[0m\u001b[0;34m\u001b[0m\u001b[0m\n\u001b[1;32m      5\u001b[0m \u001b[0;34m\u001b[0m\u001b[0m\n",
            "\u001b[0;32m/usr/local/lib/python3.10/dist-packages/ipykernel/kernelbase.py\u001b[0m in \u001b[0;36mraw_input\u001b[0;34m(self, prompt)\u001b[0m\n\u001b[1;32m    849\u001b[0m                 \u001b[0;34m\"raw_input was called, but this frontend does not support input requests.\"\u001b[0m\u001b[0;34m\u001b[0m\u001b[0;34m\u001b[0m\u001b[0m\n\u001b[1;32m    850\u001b[0m             )\n\u001b[0;32m--> 851\u001b[0;31m         return self._input_request(str(prompt),\n\u001b[0m\u001b[1;32m    852\u001b[0m             \u001b[0mself\u001b[0m\u001b[0;34m.\u001b[0m\u001b[0m_parent_ident\u001b[0m\u001b[0;34m,\u001b[0m\u001b[0;34m\u001b[0m\u001b[0;34m\u001b[0m\u001b[0m\n\u001b[1;32m    853\u001b[0m             \u001b[0mself\u001b[0m\u001b[0;34m.\u001b[0m\u001b[0m_parent_header\u001b[0m\u001b[0;34m,\u001b[0m\u001b[0;34m\u001b[0m\u001b[0;34m\u001b[0m\u001b[0m\n",
            "\u001b[0;32m/usr/local/lib/python3.10/dist-packages/ipykernel/kernelbase.py\u001b[0m in \u001b[0;36m_input_request\u001b[0;34m(self, prompt, ident, parent, password)\u001b[0m\n\u001b[1;32m    893\u001b[0m             \u001b[0;32mexcept\u001b[0m \u001b[0mKeyboardInterrupt\u001b[0m\u001b[0;34m:\u001b[0m\u001b[0;34m\u001b[0m\u001b[0;34m\u001b[0m\u001b[0m\n\u001b[1;32m    894\u001b[0m                 \u001b[0;31m# re-raise KeyboardInterrupt, to truncate traceback\u001b[0m\u001b[0;34m\u001b[0m\u001b[0;34m\u001b[0m\u001b[0m\n\u001b[0;32m--> 895\u001b[0;31m                 \u001b[0;32mraise\u001b[0m \u001b[0mKeyboardInterrupt\u001b[0m\u001b[0;34m(\u001b[0m\u001b[0;34m\"Interrupted by user\"\u001b[0m\u001b[0;34m)\u001b[0m \u001b[0;32mfrom\u001b[0m \u001b[0;32mNone\u001b[0m\u001b[0;34m\u001b[0m\u001b[0;34m\u001b[0m\u001b[0m\n\u001b[0m\u001b[1;32m    896\u001b[0m             \u001b[0;32mexcept\u001b[0m \u001b[0mException\u001b[0m \u001b[0;32mas\u001b[0m \u001b[0me\u001b[0m\u001b[0;34m:\u001b[0m\u001b[0;34m\u001b[0m\u001b[0;34m\u001b[0m\u001b[0m\n\u001b[1;32m    897\u001b[0m                 \u001b[0mself\u001b[0m\u001b[0;34m.\u001b[0m\u001b[0mlog\u001b[0m\u001b[0;34m.\u001b[0m\u001b[0mwarning\u001b[0m\u001b[0;34m(\u001b[0m\u001b[0;34m\"Invalid Message:\"\u001b[0m\u001b[0;34m,\u001b[0m \u001b[0mexc_info\u001b[0m\u001b[0;34m=\u001b[0m\u001b[0;32mTrue\u001b[0m\u001b[0;34m)\u001b[0m\u001b[0;34m\u001b[0m\u001b[0;34m\u001b[0m\u001b[0m\n",
            "\u001b[0;31mKeyboardInterrupt\u001b[0m: Interrupted by user"
          ]
        }
      ]
    },
    {
      "cell_type": "markdown",
      "source": [
        "Agora imaginemos uma situação em que não são apenas 3 estudantes, mas sim 100 estudantes. Não seria interessante repetir o mesmo código por 100 vezes, mas sim **executar o mesmo código 100 vezes**.\n",
        "\n",
        "Essa repetição conseguimos construir com laços de repetição!"
      ],
      "metadata": {
        "id": "9puIuvUbFSFX"
      }
    },
    {
      "cell_type": "markdown",
      "source": [
        "## `WHILE`"
      ],
      "metadata": {
        "id": "uLO9-aE4-wx8"
      }
    },
    {
      "cell_type": "markdown",
      "source": [
        "O laço `while` é uma estrutura de controle de repetição em Python que permite executar um bloco de código repetidamente enquanto uma determinada condição é verdadeira. Sua estrutura é:\n",
        "\n",
        "\n",
        "\n",
        "```\n",
        "while condição:\n",
        "    # bloco de código\n",
        "```\n",
        "\n",
        "Vamos construir um exemplo com um contador de 1 até 10.\n"
      ],
      "metadata": {
        "id": "rXZxDMiqHxm9"
      }
    },
    {
      "cell_type": "code",
      "source": [
        "contador = 1\n",
        "while contador <= 10:\n",
        "  print(contador)\n",
        "  contador = contador + 1"
      ],
      "metadata": {
        "id": "6b_izu633j0O",
        "colab": {
          "base_uri": "https://localhost:8080/"
        },
        "outputId": "4843a448-6638-4cc1-b9aa-9bb341e5b658"
      },
      "execution_count": null,
      "outputs": [
        {
          "output_type": "stream",
          "name": "stdout",
          "text": [
            "1\n",
            "2\n",
            "3\n",
            "4\n",
            "5\n",
            "6\n",
            "7\n",
            "8\n",
            "9\n",
            "10\n"
          ]
        }
      ]
    },
    {
      "cell_type": "markdown",
      "source": [
        "Agora vamos coletar as notas e médias de cada aluno dentro do while. Faremos um exemplo com 3 médias."
      ],
      "metadata": {
        "id": "W4KZPBJuIrut"
      }
    },
    {
      "cell_type": "code",
      "source": [
        "while True:\n",
        "  nota_1 = float(input('Digite a 1° nota: '))\n",
        "  nota_2 = float(input('Digite a 2° nota: '))\n",
        "\n",
        "  print(f'Média: {(nota_1+nota_2)/2}')\n",
        "\n",
        "  continuar = input('Deseja continuar ? (S/N): ')\n",
        "  if continuar.lower() != 's':\n",
        "    break"
      ],
      "metadata": {
        "id": "aIeQ_CzW3jiP",
        "colab": {
          "base_uri": "https://localhost:8080/"
        },
        "outputId": "968fee33-fb92-41fe-a81f-0d5864a4160c"
      },
      "execution_count": null,
      "outputs": [
        {
          "name": "stdout",
          "output_type": "stream",
          "text": [
            "Digite a 1° nota: 6\n",
            "Digite a 2° nota: 9\n",
            "Média: 7.5\n",
            "Deseja continuar ? (S/N): s\n",
            "Digite a 1° nota: 8\n",
            "Digite a 2° nota: 0\n",
            "Média: 4.0\n",
            "Deseja continuar ? (S/N): s\n",
            "Digite a 1° nota: 10\n",
            "Digite a 2° nota: 3\n",
            "Média: 6.5\n",
            "Deseja continuar ? (S/N): n\n"
          ]
        }
      ]
    },
    {
      "cell_type": "markdown",
      "source": [
        "## `FOR`"
      ],
      "metadata": {
        "id": "WgAIaENMMfCP"
      }
    },
    {
      "cell_type": "markdown",
      "source": [
        "O laço `for` é um tipo de estrutura de controle de fluxo em Python que permite iterar sobre um conjunto de elementos. A sua estrutura é:\n",
        "\n",
        "\n",
        "\n",
        "```\n",
        "for elemento in conjunto:\n",
        "    # código a ser executado para cada elemento\n",
        "```\n",
        "\n",
        "O laço for itera sobre cada elemento do conjunto especificado e executa o bloco de código dentro do laço para cada elemento. Quando o laço chega ao final do conjunto, ele é interrompido e o programa continua a execução após o laço.\n",
        "\n"
      ],
      "metadata": {
        "id": "HxrSZoRAMh-x"
      }
    },
    {
      "cell_type": "markdown",
      "source": [
        "O conjunto pode ser gerado com a função [`range()`](https://docs.python.org/3/library/functions.html#func-range). Que é uma função capaz de gerar uma sequência de números inteiros. A estrutura dessa função é:\n",
        "\n",
        "```\n",
        "range(inicio, fim, passo)\n",
        "```\n",
        "\n",
        "Segundo a documentação, o `range()` gera uma sequência de números inteiros a partir do valor do parâmetro `inicio` até o valor do parâmetro `fim`, de acordo com o valor do parâmetro `passo`. Se `inicio` não for especificado, o valor padrão é 0. Se `passo` não for especificado, o valor padrão é 1.\n",
        "\n",
        "\n"
      ],
      "metadata": {
        "id": "6VgjyoQtPHBM"
      }
    },
    {
      "cell_type": "markdown",
      "source": [
        "Vamos fazer o mesmo contador `while` agora com `for`."
      ],
      "metadata": {
        "id": "ryn0hfdlUwC8"
      }
    },
    {
      "cell_type": "code",
      "source": [
        "for contador in range(1,11):\n",
        "  print(contador)\n",
        "  contador + 1"
      ],
      "metadata": {
        "id": "t6qcdPyP3YgZ",
        "colab": {
          "base_uri": "https://localhost:8080/"
        },
        "outputId": "797dd845-fb3a-499b-8b71-41e3024934c1"
      },
      "execution_count": null,
      "outputs": [
        {
          "output_type": "stream",
          "name": "stdout",
          "text": [
            "1\n",
            "2\n",
            "3\n",
            "4\n",
            "5\n",
            "6\n",
            "7\n",
            "8\n",
            "9\n",
            "10\n"
          ]
        }
      ]
    },
    {
      "cell_type": "code",
      "source": [
        "for contador in range(1,4):\n",
        "  nota_1 = float(input('Digite a 1° nota: '))\n",
        "  nota_2 = float(input('Digite a 2° nota: '))\n",
        "\n",
        "  print(f'Média: {(nota_1+nota_2)/2}')\n",
        "  contador + 1\n",
        "tabuada = 2\n",
        "contador = 0\n",
        "for contador in range(0,11):\n",
        "  print(tabuada*contador)\n",
        "\n",
        "#coletamos o número\n",
        "num = int(input('Insira um número inteiro: '))\n",
        "\n",
        "# números inteiros iguais ou abaixo de 1 não consideramos primos\n",
        "if num > 1:\n",
        "    for i in range(2, num):\n",
        "        # verificamos todos os restos de divisões entre todos os números abaixo de num\n",
        "        # se algum resto for 0, então ele é divisível por outro número além dele e 1\n",
        "        if (num % i) == 0:\n",
        "            print(f'{num} não é um número primo')\n",
        "            break\n",
        "        else:\n",
        "            print(f'{num} é um número primo')\n",
        "else:\n",
        "    print(f'{num} não é um número primo')\n"
      ],
      "metadata": {
        "id": "KBeY8z573YWz",
        "colab": {
          "base_uri": "https://localhost:8080/"
        },
        "outputId": "7d00d607-b4f1-47d4-d56b-ea24e8e9f716"
      },
      "execution_count": null,
      "outputs": [
        {
          "output_type": "stream",
          "name": "stdout",
          "text": [
            "0\n",
            "2\n",
            "4\n",
            "6\n",
            "8\n",
            "10\n",
            "12\n",
            "14\n",
            "16\n",
            "18\n",
            "20\n",
            "Insira um número inteiro: 1560\n",
            "1560 não é um número primo\n"
          ]
        }
      ]
    },
    {
      "cell_type": "markdown",
      "source": [
        "# Estruturas de dados"
      ],
      "metadata": {
        "id": "8noP8OJ0Vhux"
      }
    },
    {
      "cell_type": "markdown",
      "source": [
        "Um conjunto de elementos é uma coleção de itens, que são armazenados juntos de maneira organizada. Alguns exemplos de conjuntos de elementos em Python são listas, strings e dicionários."
      ],
      "metadata": {
        "id": "xpEUkefTu8fY"
      }
    },
    {
      "cell_type": "markdown",
      "source": [
        "## Listas"
      ],
      "metadata": {
        "id": "THSg4KYLwxIb"
      }
    },
    {
      "cell_type": "markdown",
      "source": [
        "As listas podem armazenar uma coleção de itens em ordem. Eles são delimitados por colchetes `[]` e os itens são separados por vírgulas.\n",
        "\n",
        "Elas também podem armazenar qualquer tipo de item, incluindo números, strings, objetos e outras listas. Elas também podem armazenar itens de tipos de dados diferentes juntos em uma única lista."
      ],
      "metadata": {
        "id": "dzpsiqrOyJcK"
      }
    },
    {
      "cell_type": "code",
      "source": [
        "cadastro = ['Fabricio',9,8,3,True]\n",
        "cadastro"
      ],
      "metadata": {
        "id": "1NSzXfct3Lkw",
        "colab": {
          "base_uri": "https://localhost:8080/"
        },
        "outputId": "fe656f1a-450c-46e2-ba78-b7fc6c6427f5"
      },
      "execution_count": null,
      "outputs": [
        {
          "output_type": "execute_result",
          "data": {
            "text/plain": [
              "['Fabricio', 9, 8, 3, True]"
            ]
          },
          "metadata": {},
          "execution_count": 30
        }
      ]
    },
    {
      "cell_type": "markdown",
      "source": [
        "As listas são organizadas em Python porque **cada elemento da lista tem um índice que indica sua posição na lista**. Os índices começam em 0 e vão até o tamanho da lista menos 1."
      ],
      "metadata": {
        "id": "qUz3sJNl6LgK"
      }
    },
    {
      "cell_type": "markdown",
      "source": [
        "Temos então 5 elementos com índices variando de 0 a 4, ordenadamente:\n",
        "\n",
        "```\n",
        "#             [0]           [1]   [2]   [3]    [4]\n",
        "lista = ['Fabricio Daniel', 9.5 , 9.0 , 8.0 , True]\n",
        "```\n",
        "\n",
        "Em Python temos também os índices **negativos** que se iniciam no último elemento com o valor de `-1` e depois avancam no universo dos negativos até chegar no 1° elemeno:\n",
        "\n",
        "```\n",
        "#             [-5]         [-4]  [-3]  [-2]   [-1]\n",
        "lista = ['Fabricio Daniel', 9.5 , 9.0 , 8.0 , True]\n",
        "```\n",
        "\n",
        "Conseguimos selecionar separadamente cada elemento através de seus respectivos índices. Colocando o nome da lista e em seguida o índice a ser selecionado."
      ],
      "metadata": {
        "id": "rLf-Qg526hFD"
      }
    },
    {
      "cell_type": "code",
      "source": [
        "cadastro[0]"
      ],
      "metadata": {
        "id": "S1lf1DWg3J7A",
        "colab": {
          "base_uri": "https://localhost:8080/",
          "height": 35
        },
        "outputId": "f64fc8ef-fc88-4bf7-8fa0-6b06f215b75e"
      },
      "execution_count": null,
      "outputs": [
        {
          "output_type": "execute_result",
          "data": {
            "text/plain": [
              "'Fabricio'"
            ],
            "application/vnd.google.colaboratory.intrinsic+json": {
              "type": "string"
            }
          },
          "metadata": {},
          "execution_count": 31
        }
      ]
    },
    {
      "cell_type": "code",
      "source": [
        "cadastro[1]"
      ],
      "metadata": {
        "id": "5MZu9F6S3JxS",
        "colab": {
          "base_uri": "https://localhost:8080/"
        },
        "outputId": "84cc9599-6fcd-47a8-8d90-31bf908f2291"
      },
      "execution_count": null,
      "outputs": [
        {
          "output_type": "execute_result",
          "data": {
            "text/plain": [
              "9"
            ]
          },
          "metadata": {},
          "execution_count": 32
        }
      ]
    },
    {
      "cell_type": "code",
      "source": [
        "cadastro[-1]"
      ],
      "metadata": {
        "id": "9uLwwKom3Jmg",
        "colab": {
          "base_uri": "https://localhost:8080/"
        },
        "outputId": "71ec1ffc-a26b-482c-d1fb-65f4161533de"
      },
      "execution_count": null,
      "outputs": [
        {
          "output_type": "execute_result",
          "data": {
            "text/plain": [
              "True"
            ]
          },
          "metadata": {},
          "execution_count": 35
        }
      ]
    },
    {
      "cell_type": "markdown",
      "source": [
        "Uma forma mais dinâmica de trabalhar item por item de uma lista é utilizando um laço for para leitura elemento a elemento."
      ],
      "metadata": {
        "id": "6TaE1ijmBTCd"
      }
    },
    {
      "cell_type": "code",
      "source": [
        "for elemento in cadastro:\n",
        "  print(elemento)"
      ],
      "metadata": {
        "id": "2GWvY7F-3IVP",
        "colab": {
          "base_uri": "https://localhost:8080/"
        },
        "outputId": "61302beb-6f7a-4c06-cf82-447afd923ab0"
      },
      "execution_count": null,
      "outputs": [
        {
          "output_type": "stream",
          "name": "stdout",
          "text": [
            "Fabricio\n",
            "9\n",
            "8\n",
            "3\n",
            "True\n"
          ]
        }
      ]
    },
    {
      "cell_type": "markdown",
      "source": [
        "A nota `8.0` de Fabricio Daniel precisa ser ajustada pois ganhou 2 pontos em sua ultima nota por fazer um trabalho de turma. Então é necessária fazer uma troca no valor do índice `3` de `8.0` para `10.0`."
      ],
      "metadata": {
        "id": "Dh1_HnIVvucY"
      }
    },
    {
      "cell_type": "code",
      "source": [
        "cadastro[3] = 10\n",
        "cadastro"
      ],
      "metadata": {
        "id": "ffFiIlji3G7H",
        "colab": {
          "base_uri": "https://localhost:8080/"
        },
        "outputId": "9c29c292-4e09-44fe-b65f-c8e25915d903"
      },
      "execution_count": null,
      "outputs": [
        {
          "output_type": "execute_result",
          "data": {
            "text/plain": [
              "['Fabricio', 9, 8, 10, True]"
            ]
          },
          "metadata": {},
          "execution_count": 38
        }
      ]
    },
    {
      "cell_type": "markdown",
      "source": [
        "conseguimos calcular a média do aluno a partir dos dados que temos"
      ],
      "metadata": {
        "id": "53XduzXkycAf"
      }
    },
    {
      "cell_type": "code",
      "source": [
        "media = (cadastro[1] + cadastro[2] + cadastro[3])/3\n",
        "media"
      ],
      "metadata": {
        "id": "fRy9twzI3GFI",
        "colab": {
          "base_uri": "https://localhost:8080/"
        },
        "outputId": "2018668c-4695-49b3-a1c8-a6b5ab7122ce"
      },
      "execution_count": null,
      "outputs": [
        {
          "output_type": "execute_result",
          "data": {
            "text/plain": [
              "9.0"
            ]
          },
          "metadata": {},
          "execution_count": 40
        }
      ]
    },
    {
      "cell_type": "markdown",
      "source": [
        "## Manipulação de listas\n",
        "\n",
        "As listas são muito úteis em Python porque permitem armazenar e acessar uma coleção de itens de maneira organizada e rápida. Elas também oferecem muitos métodos úteis para manipular os itens armazenados, como adicionar, remover, classificar e pesquisar elementos."
      ],
      "metadata": {
        "id": "d-iYr10-y4qw"
      }
    },
    {
      "cell_type": "markdown",
      "source": [
        "#### Quantidade de elementos\n",
        "\n",
        "Usamos a função [`len()`](https://docs.python.org/3/library/functions.html#len) para descobrimos a quantidade de elementos de um conjunto."
      ],
      "metadata": {
        "id": "ZLqx9A97XVB_"
      }
    },
    {
      "cell_type": "code",
      "source": [
        "len(cadastro)"
      ],
      "metadata": {
        "id": "TOVGVubX3BI_",
        "colab": {
          "base_uri": "https://localhost:8080/"
        },
        "outputId": "a1e3f20b-7c43-4ee7-ee1c-54c1b016fc9c"
      },
      "execution_count": null,
      "outputs": [
        {
          "output_type": "execute_result",
          "data": {
            "text/plain": [
              "5"
            ]
          },
          "metadata": {},
          "execution_count": 41
        }
      ]
    },
    {
      "cell_type": "markdown",
      "source": [
        "#### Partição\n",
        "\n",
        "A partição de listas por indexação em Python é uma técnica muito útil para selecionar um subconjunto de elementos de uma lista. Ela é feita usando a sintaxe `lista[inicio:fim]`, onde `inicio` é o índice do primeiro elemento a ser incluído na partição e `fim` é o índice do primeiro elemento a ser excluído da partição."
      ],
      "metadata": {
        "id": "Z5tpstlHJss3"
      }
    },
    {
      "cell_type": "code",
      "source": [
        "notas = cadastro[1:4]\n",
        "notas"
      ],
      "metadata": {
        "id": "Gm9RaTnG28uC",
        "colab": {
          "base_uri": "https://localhost:8080/"
        },
        "outputId": "e7d78332-b1d1-4c3e-9183-22d12547436e"
      },
      "execution_count": null,
      "outputs": [
        {
          "output_type": "execute_result",
          "data": {
            "text/plain": [
              "[9, 8, 10]"
            ]
          },
          "metadata": {},
          "execution_count": 48
        }
      ]
    },
    {
      "cell_type": "code",
      "source": [
        "cadastro[1:3]"
      ],
      "metadata": {
        "id": "LfitkLcQ26MO",
        "colab": {
          "base_uri": "https://localhost:8080/"
        },
        "outputId": "1dc696c7-bb2a-4779-caa6-93f6c7b7d0d8"
      },
      "execution_count": null,
      "outputs": [
        {
          "output_type": "execute_result",
          "data": {
            "text/plain": [
              "[9, 8]"
            ]
          },
          "metadata": {},
          "execution_count": 44
        }
      ]
    },
    {
      "cell_type": "code",
      "source": [
        "cadastro[:3]"
      ],
      "metadata": {
        "id": "1-99Q09W28Bu",
        "colab": {
          "base_uri": "https://localhost:8080/"
        },
        "outputId": "88722b71-1fc7-41f3-954b-8995ead4054a"
      },
      "execution_count": null,
      "outputs": [
        {
          "output_type": "execute_result",
          "data": {
            "text/plain": [
              "['Fabricio', 9, 8]"
            ]
          },
          "metadata": {},
          "execution_count": 49
        }
      ]
    },
    {
      "cell_type": "code",
      "source": [
        "cadastro[3:]"
      ],
      "metadata": {
        "id": "j23Uwma5226l",
        "colab": {
          "base_uri": "https://localhost:8080/"
        },
        "outputId": "d20a1e4a-2649-4708-87e7-895b1ea4ea11"
      },
      "execution_count": null,
      "outputs": [
        {
          "output_type": "execute_result",
          "data": {
            "text/plain": [
              "[10, True]"
            ]
          },
          "metadata": {},
          "execution_count": 50
        }
      ]
    },
    {
      "cell_type": "code",
      "source": [
        "cadastro[:]"
      ],
      "metadata": {
        "id": "zfMrd28_21_q",
        "colab": {
          "base_uri": "https://localhost:8080/"
        },
        "outputId": "218b5133-b522-4e69-ef37-fc1fedd9b579"
      },
      "execution_count": null,
      "outputs": [
        {
          "output_type": "execute_result",
          "data": {
            "text/plain": [
              "['Fabricio', 9, 8, 10, True]"
            ]
          },
          "metadata": {},
          "execution_count": 52
        }
      ]
    },
    {
      "cell_type": "markdown",
      "source": [
        "#### [`append()`](https://docs.python.org/3/tutorial/datastructures.html#:~:text=of%20list%20objects%3A-,list.append(x),-Add%20an%20item)\n",
        "\n",
        "Adiciona um elemento ao final da lista."
      ],
      "metadata": {
        "id": "O0RRyabkRzZC"
      }
    },
    {
      "cell_type": "code",
      "source": [
        "cadastro.append(media)\n",
        "cadastro"
      ],
      "metadata": {
        "id": "Sr2BasZE20qF",
        "colab": {
          "base_uri": "https://localhost:8080/"
        },
        "outputId": "2eda3e2a-c2a8-48cd-dfff-ac378ad1e728"
      },
      "execution_count": null,
      "outputs": [
        {
          "output_type": "execute_result",
          "data": {
            "text/plain": [
              "['Fabricio', 9, 8, 10, True, 'Salve', 'Salve', 9.0]"
            ]
          },
          "metadata": {},
          "execution_count": 55
        }
      ]
    },
    {
      "cell_type": "markdown",
      "source": [
        "#### [`extend()`](https://docs.python.org/3/tutorial/datastructures.html#:~:text=list.extend(iterable))\n",
        "\n",
        "Adiciona vários elementos ao final da lista.\n",
        "\n",
        "Adicionaremos as notas `[10.0,8.0,9.0]` na lista do Fabricio Daniel"
      ],
      "metadata": {
        "id": "uQV91XMsUOJD"
      }
    },
    {
      "cell_type": "code",
      "source": [
        "cadastro.extend([6,5,3,2,4])\n",
        "cadastro"
      ],
      "metadata": {
        "id": "b8a6wX2w2zrs",
        "colab": {
          "base_uri": "https://localhost:8080/"
        },
        "outputId": "aa39e2f7-defe-4000-f2dc-ca94f0696989"
      },
      "execution_count": null,
      "outputs": [
        {
          "output_type": "execute_result",
          "data": {
            "text/plain": [
              "['Fabricio', 9, 8, 10, True, 'Salve', 'Salve', 9.0, 6, 5, 3, 2, 4]"
            ]
          },
          "metadata": {},
          "execution_count": 57
        }
      ]
    },
    {
      "cell_type": "markdown",
      "source": [
        "*Isso não é possivel ser feito com o* `append`."
      ],
      "metadata": {
        "id": "IVJvkTwNUk6M"
      }
    },
    {
      "cell_type": "code",
      "source": [
        "cadastro.append([6,5,3,2,4])\n",
        "cadastro"
      ],
      "metadata": {
        "id": "DyT9kWkB2yeB",
        "colab": {
          "base_uri": "https://localhost:8080/"
        },
        "outputId": "69cc3127-661d-4c36-91c9-fc1c53f7f397"
      },
      "execution_count": null,
      "outputs": [
        {
          "output_type": "execute_result",
          "data": {
            "text/plain": [
              "['Fabricio',\n",
              " 9,\n",
              " 8,\n",
              " 10,\n",
              " True,\n",
              " 'Salve',\n",
              " 'Salve',\n",
              " 9.0,\n",
              " 6,\n",
              " 5,\n",
              " 3,\n",
              " 2,\n",
              " 4,\n",
              " [6, 5, 3, 2, 4],\n",
              " [6, 5, 3, 2, 4]]"
            ]
          },
          "metadata": {},
          "execution_count": 59
        }
      ]
    },
    {
      "cell_type": "markdown",
      "source": [
        "#### [`remove()`](https://docs.python.org/3/tutorial/datastructures.html#:~:text=append(x).-,list.remove(x),-Remove%20the%20first)\n",
        "\n",
        "Remove um elemento específico da lista."
      ],
      "metadata": {
        "id": "dPGM5gpyUX1z"
      }
    },
    {
      "cell_type": "code",
      "source": [
        "cadastro.remove([6, 5, 3, 2, 4])\n",
        "cadastro"
      ],
      "metadata": {
        "id": "QgXraxZL2xZN",
        "colab": {
          "base_uri": "https://localhost:8080/"
        },
        "outputId": "147ecef3-bd59-4373-8522-9618db2c7715"
      },
      "execution_count": null,
      "outputs": [
        {
          "output_type": "execute_result",
          "data": {
            "text/plain": [
              "['Fabricio', 9, 8, 10, True, 'Salve', 'Salve', 9.0, 6, 5, 3, 2, 4]"
            ]
          },
          "metadata": {},
          "execution_count": 62
        }
      ]
    },
    {
      "cell_type": "markdown",
      "source": [
        "## Dicionário"
      ],
      "metadata": {
        "id": "Rc22Vc08YDZ2"
      }
    },
    {
      "cell_type": "markdown",
      "source": [
        "Os dicionários são um tipo de estrutura de dados que armazenam pares de *chave-valor*. Eles são delimitados por chaves `{}` e os pares *chave-valor* são separados por vírgulas.\n",
        "\n",
        "```\n",
        "dicionário = {chave: valor}\n",
        "```\n",
        "\n",
        "A **chave** é um elemento único que identifica um valor no dicionário, enquanto o **valor** é o item que é armazenado para a chave. As chaves e os valores podem ser de **qualquer tipo de dado**.\n",
        "\n",
        "Os dicionários são úteis para armazenar e acessar dados de maneira organizada e rápida. Eles são um tipo de conjunto de elementos em Python, pois armazenam uma coleção de itens."
      ],
      "metadata": {
        "id": "PJ-cCKPjeWxL"
      }
    },
    {
      "cell_type": "code",
      "source": [
        "dicionario = {'chave': 19, 'chave 2': 1}\n",
        "dicionario"
      ],
      "metadata": {
        "id": "fO6BSSP02lPY",
        "colab": {
          "base_uri": "https://localhost:8080/"
        },
        "outputId": "024c62e9-b584-4b53-feec-5937025dc9bb"
      },
      "execution_count": null,
      "outputs": [
        {
          "output_type": "execute_result",
          "data": {
            "text/plain": [
              "{'chave': 19, 'chave 2': 1}"
            ]
          },
          "metadata": {},
          "execution_count": 68
        }
      ]
    },
    {
      "cell_type": "markdown",
      "source": [
        "---\n",
        "**Situação:**\n",
        "\n",
        "Vamos criar um conjunto de dados com informações de matricula de um estudante. Os dados são os seguintes:\n",
        "\n",
        "- matricula: 2000168933\n",
        "- dia de cadastro: 25\n",
        "- mês de cadastro: 10\n",
        "- turma: 2E"
      ],
      "metadata": {
        "id": "_JbQ3KMKfkXU"
      }
    },
    {
      "cell_type": "code",
      "source": [
        "cadastro = {'matricula': 2000168933, 'dia': 25, 'mes': 10, 'turma': '2e'}\n",
        "cadastro"
      ],
      "metadata": {
        "id": "Q1SKuEXQ2jkL",
        "colab": {
          "base_uri": "https://localhost:8080/"
        },
        "outputId": "752b4f4d-86a6-4494-eff8-3306733d0615"
      },
      "execution_count": null,
      "outputs": [
        {
          "output_type": "execute_result",
          "data": {
            "text/plain": [
              "{'matricula': 2000168933, 'dia': 25, 'mes': 10, 'turma': '2e'}"
            ]
          },
          "metadata": {},
          "execution_count": 77
        }
      ]
    },
    {
      "cell_type": "code",
      "source": [
        "cadastro['matricula']"
      ],
      "metadata": {
        "id": "H7oT2M_a2jY5",
        "colab": {
          "base_uri": "https://localhost:8080/"
        },
        "outputId": "6bbb6e36-65fc-4736-d4ed-63bc0999c176"
      },
      "execution_count": null,
      "outputs": [
        {
          "output_type": "execute_result",
          "data": {
            "text/plain": [
              "2000168933"
            ]
          },
          "metadata": {},
          "execution_count": 70
        }
      ]
    },
    {
      "cell_type": "code",
      "source": [
        "cadastro['turma']"
      ],
      "metadata": {
        "id": "Mv8we96a2jPR",
        "colab": {
          "base_uri": "https://localhost:8080/",
          "height": 35
        },
        "outputId": "9320bab5-ab5e-46b7-f598-22999c3a28be"
      },
      "execution_count": null,
      "outputs": [
        {
          "output_type": "execute_result",
          "data": {
            "text/plain": [
              "'2e'"
            ],
            "application/vnd.google.colaboratory.intrinsic+json": {
              "type": "string"
            }
          },
          "metadata": {},
          "execution_count": 71
        }
      ]
    },
    {
      "cell_type": "markdown",
      "source": [
        "É possível substituir os valores dentro de uma chave. Por exemplo, recebemos a informação que a turma do estudante que cadastramos foi trocada para `'2G'` e agora precisamos trocar o valor da chave `'turma'`."
      ],
      "metadata": {
        "id": "8ex5pt2ykDd2"
      }
    },
    {
      "cell_type": "code",
      "source": [
        "cadastro['turma'] = '2G'\n",
        "cadastro"
      ],
      "metadata": {
        "id": "WqZPkVop2hq-",
        "colab": {
          "base_uri": "https://localhost:8080/"
        },
        "outputId": "eec98dca-d7d8-479d-deac-2f23d696e679"
      },
      "execution_count": null,
      "outputs": [
        {
          "output_type": "execute_result",
          "data": {
            "text/plain": [
              "{'matricula': 2000168933, 'dia': 25, 'mes': 10, 'turma': '2G'}"
            ]
          },
          "metadata": {},
          "execution_count": 78
        }
      ]
    },
    {
      "cell_type": "markdown",
      "source": [
        "Podemos também adicionar outros dados ao dicionário. Vamos adicionar a informação de modalidade de ensino, nosso estudante atuará inicialmente em modalidade EAD.\n",
        "\n",
        "Então iremos definir uma chave chamada `'modalidade'` e o valor `'EAD'`."
      ],
      "metadata": {
        "id": "wB0qRb56mQvv"
      }
    },
    {
      "cell_type": "code",
      "source": [
        "cadastro['modalidade'] = 'EAD'\n",
        "cadastro"
      ],
      "metadata": {
        "id": "YDbsuNbw2gb2",
        "colab": {
          "base_uri": "https://localhost:8080/"
        },
        "outputId": "c8ebd1df-6030-4c67-8d8f-0ec07791240e"
      },
      "execution_count": null,
      "outputs": [
        {
          "output_type": "execute_result",
          "data": {
            "text/plain": [
              "{'matricula': 2000168933, 'dia': 25, 'mes': 10, 'modalidade': 'EAD'}"
            ]
          },
          "metadata": {},
          "execution_count": 81
        }
      ]
    },
    {
      "cell_type": "markdown",
      "source": [
        "## Aprofundando em dicionários"
      ],
      "metadata": {
        "id": "LJ3o_inroxg_"
      }
    },
    {
      "cell_type": "markdown",
      "source": [
        "#### [`pop()`](https://python-reference.readthedocs.io/en/latest/docs/dict/pop.html)\n",
        "Remove um item de um dicionário e o retorna."
      ],
      "metadata": {
        "id": "2N3GLlkSpBiu"
      }
    },
    {
      "cell_type": "code",
      "source": [
        "cadastro.pop('turma')"
      ],
      "metadata": {
        "id": "NJKPaN0N2d2G",
        "colab": {
          "base_uri": "https://localhost:8080/",
          "height": 35
        },
        "outputId": "387e43d9-bbc7-4d33-c43f-edfb2dbfb5a5"
      },
      "execution_count": null,
      "outputs": [
        {
          "output_type": "execute_result",
          "data": {
            "text/plain": [
              "'2G'"
            ],
            "application/vnd.google.colaboratory.intrinsic+json": {
              "type": "string"
            }
          },
          "metadata": {},
          "execution_count": 79
        }
      ]
    },
    {
      "cell_type": "code",
      "source": [
        "cadastro"
      ],
      "metadata": {
        "id": "7XZ7Rl4R2cSF",
        "colab": {
          "base_uri": "https://localhost:8080/"
        },
        "outputId": "48635dae-5481-4bd6-ae73-4a6d4adc2e53"
      },
      "execution_count": null,
      "outputs": [
        {
          "output_type": "execute_result",
          "data": {
            "text/plain": [
              "{'matricula': 2000168933, 'dia': 25, 'mes': 10}"
            ]
          },
          "metadata": {},
          "execution_count": 80
        }
      ]
    },
    {
      "cell_type": "markdown",
      "source": [
        "#### [`items()`](https://python-reference.readthedocs.io/en/latest/docs/dict/items.html)\n",
        "Retorna uma lista de pares chave-valor do dicionário."
      ],
      "metadata": {
        "id": "sYZGvJJYrW_y"
      }
    },
    {
      "cell_type": "code",
      "source": [
        "cadastro.items()"
      ],
      "metadata": {
        "id": "rWJG9aZ72a0D",
        "colab": {
          "base_uri": "https://localhost:8080/"
        },
        "outputId": "5bc0e963-85d7-4eae-aa86-2acf3fd1bf87"
      },
      "execution_count": null,
      "outputs": [
        {
          "output_type": "execute_result",
          "data": {
            "text/plain": [
              "dict_items([('matricula', 2000168933), ('dia', 25), ('mes', 10), ('modalidade', 'EAD')])"
            ]
          },
          "metadata": {},
          "execution_count": 82
        }
      ]
    },
    {
      "cell_type": "markdown",
      "source": [
        "#### [`keys()`](https://python-reference.readthedocs.io/en/latest/docs/dict/keys.html)\n",
        "Retorna uma lista das chaves do dicionário."
      ],
      "metadata": {
        "id": "Lb0utNFGrZBY"
      }
    },
    {
      "cell_type": "code",
      "source": [
        "cadastro.keys()"
      ],
      "metadata": {
        "id": "H1WmQRaR2Z-l",
        "colab": {
          "base_uri": "https://localhost:8080/"
        },
        "outputId": "cad0e87c-bcd6-476c-c653-6a67e7ae673e"
      },
      "execution_count": null,
      "outputs": [
        {
          "output_type": "execute_result",
          "data": {
            "text/plain": [
              "dict_keys(['matricula', 'dia', 'mes', 'modalidade'])"
            ]
          },
          "metadata": {},
          "execution_count": 83
        }
      ]
    },
    {
      "cell_type": "markdown",
      "source": [
        "#### [`values()`](https://python-reference.readthedocs.io/en/latest/docs/dict/values.html)\n",
        "Retorna uma lista dos valores do dicionário."
      ],
      "metadata": {
        "id": "qKyu3bf9rbtX"
      }
    },
    {
      "cell_type": "code",
      "source": [
        "cadastro.values()"
      ],
      "metadata": {
        "id": "E5pgDcfQ2ZHH",
        "colab": {
          "base_uri": "https://localhost:8080/"
        },
        "outputId": "95b27959-cb44-4d9b-e170-3db56556141f"
      },
      "execution_count": null,
      "outputs": [
        {
          "output_type": "execute_result",
          "data": {
            "text/plain": [
              "dict_values([2000168933, 25, 10, 'EAD'])"
            ]
          },
          "metadata": {},
          "execution_count": 84
        }
      ]
    },
    {
      "cell_type": "markdown",
      "source": [
        "### Leitura de valores com `for`"
      ],
      "metadata": {
        "id": "e3XVjR8Frp75"
      }
    },
    {
      "cell_type": "code",
      "source": [
        "for chaves in cadastro.keys():\n",
        "  print(cadastro[chaves])"
      ],
      "metadata": {
        "id": "iwIY3hwV2XL5",
        "colab": {
          "base_uri": "https://localhost:8080/"
        },
        "outputId": "355fc412-03c8-4427-9a83-5802446a3d20"
      },
      "execution_count": null,
      "outputs": [
        {
          "output_type": "stream",
          "name": "stdout",
          "text": [
            "2000168933\n",
            "25\n",
            "10\n",
            "EAD\n"
          ]
        }
      ]
    },
    {
      "cell_type": "code",
      "source": [
        "for valores in cadastro.values():\n",
        "  print(valores)"
      ],
      "metadata": {
        "id": "KlEbYjKN2XCy",
        "colab": {
          "base_uri": "https://localhost:8080/"
        },
        "outputId": "f90edd51-b939-4f5d-c103-5d94e4e58f00"
      },
      "execution_count": null,
      "outputs": [
        {
          "output_type": "stream",
          "name": "stdout",
          "text": [
            "2000168933\n",
            "25\n",
            "10\n",
            "EAD\n"
          ]
        }
      ]
    },
    {
      "cell_type": "code",
      "source": [
        "for chaves, itens in cadastro.items():\n",
        "  print(chaves, itens)\n",
        "\n",
        "\n",
        "gastos = [2172.54, 3701.35, 3518.09, 3456.61, 3249.38, 2840.82, 3891.45, 3075.26, 2317.64, 3219.08]\n",
        "total_gastos = sum(gastos)\n",
        "quantidade = len(gastos)\n",
        "media = total_gastos / quantidade\n",
        "print(total_gastos)\n",
        "print(media)"
      ],
      "metadata": {
        "id": "aiCgk-o42W6u",
        "colab": {
          "base_uri": "https://localhost:8080/"
        },
        "outputId": "11147ee1-0479-4da5-dcbb-90d1e480054d"
      },
      "execution_count": null,
      "outputs": [
        {
          "output_type": "stream",
          "name": "stdout",
          "text": [
            "matricula 2000168933\n",
            "dia 25\n",
            "mes 10\n",
            "modalidade EAD\n",
            "31442.22\n",
            "3144.222\n"
          ]
        }
      ]
    }
  ]
}